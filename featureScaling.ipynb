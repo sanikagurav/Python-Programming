{
  "nbformat": 4,
  "nbformat_minor": 0,
  "metadata": {
    "colab": {
      "provenance": [],
      "authorship_tag": "ABX9TyMF9y/wcokPTpNgYvxGPGvU",
      "include_colab_link": true
    },
    "kernelspec": {
      "name": "python3",
      "display_name": "Python 3"
    },
    "language_info": {
      "name": "python"
    }
  },
  "cells": [
    {
      "cell_type": "markdown",
      "metadata": {
        "id": "view-in-github",
        "colab_type": "text"
      },
      "source": [
        "<a href=\"https://colab.research.google.com/github/sanikagurav/Python-Programming/blob/main/featureScaling.ipynb\" target=\"_parent\"><img src=\"https://colab.research.google.com/assets/colab-badge.svg\" alt=\"Open In Colab\"/></a>"
      ]
    },
    {
      "cell_type": "code",
      "execution_count": null,
      "metadata": {
        "id": "fy3biuCez0Nn"
      },
      "outputs": [],
      "source": [
        "#importing the libraries\n",
        "import numpy as np\n",
        "import matplotlib.pyplot as plt\n",
        "import pandas as pd"
      ]
    },
    {
      "cell_type": "code",
      "source": [
        "#importing the database\n",
        "dataset = pd.read_csv('Student.csv')\n",
        "x = dataset.iloc[:, :-1].values\n",
        "y = dataset.iloc[:, -1].values"
      ],
      "metadata": {
        "id": "Ps3kuD5M4voA"
      },
      "execution_count": null,
      "outputs": []
    },
    {
      "cell_type": "code",
      "source": [
        "print(x)"
      ],
      "metadata": {
        "colab": {
          "base_uri": "https://localhost:8080/"
        },
        "id": "va5pwgaX5EvP",
        "outputId": "b1cd31ee-f363-468e-db56-64810ef3724b"
      },
      "execution_count": null,
      "outputs": [
        {
          "output_type": "stream",
          "name": "stdout",
          "text": [
            "[['Sanika' 8.0 19.0]\n",
            " ['Anuja' 7.0 20.0]\n",
            " ['Sakshi' nan 21.0]\n",
            " ['Saee' 6.0 nan]\n",
            " ['Gaytri' 7.5 20.0]\n",
            " ['Manjusha' 8.5 20.0]\n",
            " ['Divya' 7.0 21.0]]\n"
          ]
        }
      ]
    },
    {
      "cell_type": "code",
      "source": [
        "print(y)"
      ],
      "metadata": {
        "colab": {
          "base_uri": "https://localhost:8080/"
        },
        "id": "N4XL7m_75fHR",
        "outputId": "24a13fe0-d235-4601-ecfc-621f09600f4d"
      },
      "execution_count": null,
      "outputs": [
        {
          "output_type": "stream",
          "name": "stdout",
          "text": [
            "['YES' 'YES' 'NO' 'NO' 'YES' 'YES' 'NO']\n"
          ]
        }
      ]
    },
    {
      "cell_type": "code",
      "source": [
        "#Taking care of missing data\n",
        "from sklearn.impute import SimpleImputer\n",
        "imputer = SimpleImputer(missing_values = np.nan,strategy = 'mean')\n",
        "imputer.fit(x[:, 1:3])\n",
        "x[:, 1:3] = imputer.transform(x[:, 1:3])"
      ],
      "metadata": {
        "id": "A3VxphvC5mrO"
      },
      "execution_count": null,
      "outputs": []
    },
    {
      "cell_type": "code",
      "source": [
        "print(x)"
      ],
      "metadata": {
        "colab": {
          "base_uri": "https://localhost:8080/"
        },
        "id": "eTDST8Kx6eSu",
        "outputId": "58d445fa-24a0-499f-8d7b-d30ab3dab105"
      },
      "execution_count": null,
      "outputs": [
        {
          "output_type": "stream",
          "name": "stdout",
          "text": [
            "[['Sanika' 8.0 19.0]\n",
            " ['Anuja' 7.0 20.0]\n",
            " ['Sakshi' 7.333333333333333 21.0]\n",
            " ['Saee' 6.0 20.166666666666668]\n",
            " ['Gaytri' 7.5 20.0]\n",
            " ['Manjusha' 8.5 20.0]\n",
            " ['Divya' 7.0 21.0]]\n"
          ]
        }
      ]
    },
    {
      "cell_type": "code",
      "source": [
        "# Encoding categorical data\n",
        "# Encoding the Independent Variable\n",
        "from sklearn.compose import ColumnTransformer\n",
        "from sklearn.preprocessing import OneHotEncoder\n",
        "ct = ColumnTransformer(transformers=[('encoder', OneHotEncoder(), [0])], remainder='passthrough')\n",
        "x = np.array(ct.fit_transform(x))"
      ],
      "metadata": {
        "id": "_0EjGoTzlih9"
      },
      "execution_count": null,
      "outputs": []
    },
    {
      "cell_type": "code",
      "source": [
        "print(x)"
      ],
      "metadata": {
        "colab": {
          "base_uri": "https://localhost:8080/"
        },
        "id": "IgAjHmd4lumm",
        "outputId": "fbc9e465-4e50-41c9-8849-570afa0b93da"
      },
      "execution_count": null,
      "outputs": [
        {
          "output_type": "stream",
          "name": "stdout",
          "text": [
            "[[0.0 0.0 0.0 0.0 0.0 0.0 1.0 8.0 19.0]\n",
            " [1.0 0.0 0.0 0.0 0.0 0.0 0.0 7.0 20.0]\n",
            " [0.0 0.0 0.0 0.0 0.0 1.0 0.0 7.333333333333333 21.0]\n",
            " [0.0 0.0 0.0 0.0 1.0 0.0 0.0 6.0 20.166666666666668]\n",
            " [0.0 0.0 1.0 0.0 0.0 0.0 0.0 7.5 20.0]\n",
            " [0.0 0.0 0.0 1.0 0.0 0.0 0.0 8.5 20.0]\n",
            " [0.0 1.0 0.0 0.0 0.0 0.0 0.0 7.0 21.0]]\n"
          ]
        }
      ]
    },
    {
      "cell_type": "code",
      "source": [
        "# Encoding the Dependent Variable\n",
        "from sklearn.preprocessing import LabelEncoder\n",
        "le = LabelEncoder()\n",
        "y = le.fit_transform(y)"
      ],
      "metadata": {
        "id": "CWNoAQAil9Fz"
      },
      "execution_count": null,
      "outputs": []
    },
    {
      "cell_type": "code",
      "source": [
        "print(y)"
      ],
      "metadata": {
        "colab": {
          "base_uri": "https://localhost:8080/"
        },
        "id": "6YnTUIV6l1DO",
        "outputId": "e879abdb-3460-4216-e985-522d209c9f70"
      },
      "execution_count": null,
      "outputs": [
        {
          "output_type": "stream",
          "name": "stdout",
          "text": [
            "[1 1 0 0 1 1 0]\n"
          ]
        }
      ]
    },
    {
      "cell_type": "code",
      "source": [
        "#Splitting the dataset into the Training set and Test set\n",
        "from sklearn.model_selection import train_test_split\n",
        "x_train, x_test, y_train, y_test = train_test_split(x, y, test_size = 0.2, random_state = 1)"
      ],
      "metadata": {
        "id": "t0gU0eOJ62qa"
      },
      "execution_count": null,
      "outputs": []
    },
    {
      "cell_type": "code",
      "source": [
        "print(x_train)"
      ],
      "metadata": {
        "colab": {
          "base_uri": "https://localhost:8080/"
        },
        "id": "NE5tg8Ah7UBj",
        "outputId": "e4d1227c-d9e8-4256-e542-098ab5c7836b"
      },
      "execution_count": null,
      "outputs": [
        {
          "output_type": "stream",
          "name": "stdout",
          "text": [
            "[[1.0 0.0 0.0 0.0 0.0 0.0 0.0 7.0 20.0]\n",
            " [0.0 0.0 0.0 0.0 0.0 0.0 1.0 8.0 19.0]\n",
            " [0.0 0.0 1.0 0.0 0.0 0.0 0.0 7.5 20.0]\n",
            " [0.0 0.0 0.0 0.0 1.0 0.0 0.0 6.0 20.166666666666668]\n",
            " [0.0 0.0 0.0 1.0 0.0 0.0 0.0 8.5 20.0]]\n"
          ]
        }
      ]
    },
    {
      "cell_type": "code",
      "source": [
        "print(x_test)"
      ],
      "metadata": {
        "colab": {
          "base_uri": "https://localhost:8080/"
        },
        "id": "f72_DQFS8h4i",
        "outputId": "6a937652-1c8a-4a4d-c1ce-0e00aa3e8725"
      },
      "execution_count": null,
      "outputs": [
        {
          "output_type": "stream",
          "name": "stdout",
          "text": [
            "[[0.0 1.0 0.0 0.0 0.0 0.0 0.0 7.0 21.0]\n",
            " [0.0 0.0 0.0 0.0 0.0 1.0 0.0 7.333333333333333 21.0]]\n"
          ]
        }
      ]
    },
    {
      "cell_type": "code",
      "source": [
        "print(y_train)"
      ],
      "metadata": {
        "colab": {
          "base_uri": "https://localhost:8080/"
        },
        "id": "We79xKOh8s8b",
        "outputId": "7ddfb77f-046f-479c-f5df-2da532c54463"
      },
      "execution_count": null,
      "outputs": [
        {
          "output_type": "stream",
          "name": "stdout",
          "text": [
            "[1 1 1 0 1]\n"
          ]
        }
      ]
    },
    {
      "cell_type": "code",
      "source": [
        "print(y_train)"
      ],
      "metadata": {
        "colab": {
          "base_uri": "https://localhost:8080/"
        },
        "id": "jEJaZ5OD817c",
        "outputId": "a5a75758-251e-443c-e970-f3e7ec32242a"
      },
      "execution_count": null,
      "outputs": [
        {
          "output_type": "stream",
          "name": "stdout",
          "text": [
            "[1 1 1 0 1]\n"
          ]
        }
      ]
    },
    {
      "cell_type": "code",
      "source": [
        "#feature scaling\n",
        "from sklearn.preprocessing import StandardScaler\n",
        "sc = StandardScaler()\n",
        "x_train = sc.fit_transform(x_train)\n",
        "x_test = sc.transform(x_test)"
      ],
      "metadata": {
        "id": "eeY7ARpL9AUh"
      },
      "execution_count": null,
      "outputs": []
    },
    {
      "cell_type": "code",
      "source": [
        "print(x_train)"
      ],
      "metadata": {
        "colab": {
          "base_uri": "https://localhost:8080/"
        },
        "id": "xR4VxI8UmbFD",
        "outputId": "da9f3923-8151-49ce-ffd4-dc6bb375d367"
      },
      "execution_count": null,
      "outputs": [
        {
          "output_type": "stream",
          "name": "stdout",
          "text": [
            "[[ 2.          0.         -0.5        -0.5        -0.5         0.\n",
            "  -0.5        -0.46499055  0.39528471]\n",
            " [-0.5         0.         -0.5        -0.5        -0.5         0.\n",
            "   2.          0.69748583 -1.97642354]\n",
            " [-0.5         0.          2.         -0.5        -0.5         0.\n",
            "  -0.5         0.11624764  0.39528471]\n",
            " [-0.5         0.         -0.5        -0.5         2.          0.\n",
            "  -0.5        -1.62746694  0.79056942]\n",
            " [-0.5         0.         -0.5         2.         -0.5         0.\n",
            "  -0.5         1.27872403  0.39528471]]\n"
          ]
        }
      ]
    },
    {
      "cell_type": "code",
      "source": [
        "print(x_test)"
      ],
      "metadata": {
        "colab": {
          "base_uri": "https://localhost:8080/"
        },
        "id": "18vgrSL_mlaR",
        "outputId": "fc0c7351-ff67-499f-c21b-a55991cdcb1c"
      },
      "execution_count": null,
      "outputs": [
        {
          "output_type": "stream",
          "name": "stdout",
          "text": [
            "[[ 0.  1.  0.  0.  0. -1.  0. -1.  0.]\n",
            " [ 0. -1.  0.  0.  0.  1.  0.  1.  0.]]\n"
          ]
        }
      ]
    }
  ]
}